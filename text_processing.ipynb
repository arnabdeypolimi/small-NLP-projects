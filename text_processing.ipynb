{
 "cells": [
  {
   "cell_type": "markdown",
   "metadata": {},
   "source": [
    "# Text Processing\n",
    "\n",
    "## Capturing Text Data\n",
    "\n",
    "### Plain Text"
   ]
  },
  {
   "cell_type": "code",
   "execution_count": 1,
   "metadata": {},
   "outputs": [
    {
     "name": "stdout",
     "output_type": "stream",
     "text": [
      "Hieroglyphic writing dates from c. 3000 BC, and is composed of hundreds of symbols. A hieroglyph can represent a word, a sound, or a silent determinative; and the same symbol can serve different purposes in different contexts. Hieroglyphs were a formal script, used on stone monuments and in tombs, that could be as detailed as individual works of art.\n",
      "\n"
     ]
    }
   ],
   "source": [
    "import os\n",
    "\n",
    "# Read in a plain text file\n",
    "with open(os.path.join(\"data\", \"hieroglyph.txt\"), \"r\") as f:\n",
    "    text = f.read()\n",
    "    print(text)"
   ]
  },
  {
   "cell_type": "markdown",
   "metadata": {},
   "source": [
    "### Tabular Data"
   ]
  },
  {
   "cell_type": "code",
   "execution_count": 2,
   "metadata": {
    "scrolled": true
   },
   "outputs": [
    {
     "data": {
      "text/html": [
       "<div>\n",
       "<style scoped>\n",
       "    .dataframe tbody tr th:only-of-type {\n",
       "        vertical-align: middle;\n",
       "    }\n",
       "\n",
       "    .dataframe tbody tr th {\n",
       "        vertical-align: top;\n",
       "    }\n",
       "\n",
       "    .dataframe thead th {\n",
       "        text-align: right;\n",
       "    }\n",
       "</style>\n",
       "<table border=\"1\" class=\"dataframe\">\n",
       "  <thead>\n",
       "    <tr style=\"text-align: right;\">\n",
       "      <th></th>\n",
       "      <th>publisher</th>\n",
       "      <th>title</th>\n",
       "    </tr>\n",
       "  </thead>\n",
       "  <tbody>\n",
       "    <tr>\n",
       "      <th>0</th>\n",
       "      <td>Livemint</td>\n",
       "      <td>fed's charles plosser sees high bar for change...</td>\n",
       "    </tr>\n",
       "    <tr>\n",
       "      <th>1</th>\n",
       "      <td>IFA Magazine</td>\n",
       "      <td>us open: stocks fall after fed official hints ...</td>\n",
       "    </tr>\n",
       "    <tr>\n",
       "      <th>2</th>\n",
       "      <td>IFA Magazine</td>\n",
       "      <td>fed risks falling 'behind the curve', charles ...</td>\n",
       "    </tr>\n",
       "    <tr>\n",
       "      <th>3</th>\n",
       "      <td>Moneynews</td>\n",
       "      <td>fed's plosser: nasty weather has curbed job gr...</td>\n",
       "    </tr>\n",
       "    <tr>\n",
       "      <th>4</th>\n",
       "      <td>NASDAQ</td>\n",
       "      <td>plosser: fed may have to accelerate tapering pace</td>\n",
       "    </tr>\n",
       "  </tbody>\n",
       "</table>\n",
       "</div>"
      ],
      "text/plain": [
       "      publisher                                              title\n",
       "0      Livemint  fed's charles plosser sees high bar for change...\n",
       "1  IFA Magazine  us open: stocks fall after fed official hints ...\n",
       "2  IFA Magazine  fed risks falling 'behind the curve', charles ...\n",
       "3     Moneynews  fed's plosser: nasty weather has curbed job gr...\n",
       "4        NASDAQ  plosser: fed may have to accelerate tapering pace"
      ]
     },
     "execution_count": 2,
     "metadata": {},
     "output_type": "execute_result"
    }
   ],
   "source": [
    "import pandas as pd\n",
    "\n",
    "# Extract text column from a dataframe\n",
    "df = pd.read_csv(os.path.join(\"data\", \"news.csv\"))\n",
    "df.head()[['publisher', 'title']]\n",
    "\n",
    "# Convert text column to lowercase\n",
    "df['title'] = df['title'].str.lower()\n",
    "df.head()[['publisher', 'title']]"
   ]
  },
  {
   "cell_type": "markdown",
   "metadata": {},
   "source": [
    "### Online Resource"
   ]
  },
  {
   "cell_type": "code",
   "execution_count": 3,
   "metadata": {
    "scrolled": true
   },
   "outputs": [
    {
     "name": "stdout",
     "output_type": "stream",
     "text": [
      "{\n",
      "    \"success\": {\n",
      "        \"total\": 1\n",
      "    },\n",
      "    \"contents\": {\n",
      "        \"quotes\": [\n",
      "            {\n",
      "                \"quote\": \"From now on we live in a world where man has walked on the Moon. It's not a miracle; we just decided to go.\",\n",
      "                \"length\": \"107\",\n",
      "                \"author\": \"Tom Hanks\",\n",
      "                \"tags\": [\n",
      "                    \"humor\",\n",
      "                    \"inspire\",\n",
      "                    \"man\",\n",
      "                    \"miracles\",\n",
      "                    \"moon\"\n",
      "                ],\n",
      "                \"category\": \"inspire\",\n",
      "                \"language\": \"en\",\n",
      "                \"date\": \"2020-03-30\",\n",
      "                \"permalink\": \"https://theysaidso.com/quote/tom-hanks-from-now-on-we-live-in-a-world-where-man-has-walked-on-the-moon-its-no\",\n",
      "                \"id\": \"9rDc8ymrY7VZQHCUf6Xf1AeF\",\n",
      "                \"background\": \"https://theysaidso.com/img/qod/qod-inspire.jpg\",\n",
      "                \"title\": \"Inspiring Quote of the day\"\n",
      "            }\n",
      "        ]\n",
      "    },\n",
      "    \"baseurl\": \"https://theysaidso.com\",\n",
      "    \"copyright\": {\n",
      "        \"year\": 2022,\n",
      "        \"url\": \"https://theysaidso.com\"\n",
      "    }\n",
      "}\n",
      "From now on we live in a world where man has walked on the Moon. It's not a miracle; we just decided to go. \n",
      "-- Tom Hanks\n"
     ]
    }
   ],
   "source": [
    "import requests\n",
    "import json\n",
    "\n",
    "# Fetch data from a REST API\n",
    "r = requests.get(\n",
    "    \"https://quotes.rest/qod.json\")\n",
    "res = r.json()\n",
    "print(json.dumps(res, indent=4))\n",
    "\n",
    "# Extract relevant object and field\n",
    "q = res[\"contents\"][\"quotes\"][0]\n",
    "print(q[\"quote\"], \"\\n--\", q[\"author\"])"
   ]
  },
  {
   "cell_type": "markdown",
   "metadata": {},
   "source": [
    "## Cleaning"
   ]
  },
  {
   "cell_type": "code",
   "execution_count": 4,
   "metadata": {
    "scrolled": true
   },
   "outputs": [
    {
     "name": "stdout",
     "output_type": "stream",
     "text": [
      "<html op=\"news\"><head><meta name=\"referrer\" content=\"origin\"><meta name=\"viewport\" content=\"width=device-width, initial-scale=1.0\"><link rel=\"stylesheet\" type=\"text/css\" href=\"news.css?ryW9A4l3hsJvd6D7sOQl\">\n",
      "        <link rel=\"shortcut icon\" href=\"favicon.ico\">\n",
      "          <link rel=\"alternate\" type=\"application/rss+xml\" title=\"RSS\" href=\"rss\">\n",
      "        <title>Hacker News</title></head><body><center><table id=\"hnmain\" border=\"0\" cellpadding=\"0\" cellspacing=\"0\" width=\"85%\" bgcolor=\"#f6f6ef\">\n",
      "        <tr><td bgcolor=\"#ff6600\"><table border=\"0\" cellpadding=\"0\" cellspacing=\"0\" width=\"100%\" style=\"padding:2px\"><tr><td style=\"width:18px;padding-right:4px\"><a href=\"https://news.ycombinator.com\"><img src=\"y18.gif\" width=\"18\" height=\"18\" style=\"border:1px white solid;\"></a></td>\n",
      "                  <td style=\"line-height:12pt; height:10px;\"><span class=\"pagetop\"><b class=\"hnname\"><a href=\"news\">Hacker News</a></b>\n",
      "              <a href=\"newest\">new</a> | <a href=\"front\">past</a> | <a href=\"newcomments\">comments</a> | <a href=\"ask\">ask</a> | <a href=\"show\">show</a> | <a href=\"jobs\">jobs</a> | <a href=\"submit\">submit</a>            </span></td><td style=\"text-align:right;padding-right:4px;\"><span class=\"pagetop\">\n",
      "                              <a href=\"login?goto=news\">login</a>\n",
      "                          </span></td>\n",
      "              </tr></table></td></tr>\n",
      "<tr id=\"pagespace\" title=\"\" style=\"height:10px\"></tr><tr><td><table border=\"0\" cellpadding=\"0\" cellspacing=\"0\" class=\"itemlist\">\n",
      "              <tr class='athing' id='22727358'>\n",
      "      <td align=\"right\" valign=\"top\" class=\"title\"><span class=\"rank\">1.</span></td>      <td valign=\"top\" class=\"votelinks\"><center><a id='up_22727358' href='vote?id=22727358&amp;how=up&amp;goto=news'><div class='votearrow' title='upvote'></div></a></center></td><td class=\"title\"><a href=\"https://lore.kernel.org/wireguard/CAHmME9qOpDeraWo5rM31EWQW574KEduRBTL-+0A2ZyqBNDeYkg@mail.gmail.com/T/#u\" class=\"storylink\">WireGuard 1.0.0</a><span class=\"sitebit comhead\"> (<a href=\"from?site=kernel.org\"><span class=\"sitestr\">kernel.org</span></a>)</span></td></tr><tr><td colspan=\"2\"></td><td class=\"subtext\">\n",
      "        <span class=\"score\" id=\"score_22727358\">319 points</span> by <a href=\"user?id=iamd3vil\" class=\"hnuser\">iamd3vil</a> <span class=\"age\"><a href=\"item?id=22727358\">2 hours ago</a></span> <span id=\"unv_22727358\"></span> | <a href=\"hide?id=22727358&amp;goto=news\">hide</a> | <a href=\"item?id=22727358\">40&nbsp;comments</a>              </td></tr>\n",
      "      <tr class=\"spacer\" style=\"height:5px\"></tr>\n",
      "                <tr class='athing' id='22726416'>\n",
      "      <td align=\"right\" valign=\"top\" class=\"title\"><span class=\"rank\">2.</span></td>      <td valign=\"top\" class=\"votelinks\"><center><a id='up_22726416' href='vote?id=22726416&amp;how=up&amp;goto=news'><div class='votearrow' title='upvote'></div></a></center></td><td class=\"title\"><a href=\"https://lore.kernel.org/lkml/CAHk-=wi9ZT7Stg-uSpX0UWQzam6OP9Jzz6Xu1CkYu1cicpD5OA@mail.gmail.com/\" class=\"storylink\">Linux 5.6</a><span class=\"sitebit comhead\"> (<a href=\"from?site=kernel.org\"><span class=\"sitestr\">kernel.org</span></a>)</span></td></tr><tr><td colspan=\"2\"></td><td class=\"subtext\">\n",
      "        <span class=\"score\" id=\"score_22726416\">276 points</span> by <a href=\"user?id=SomeSnail\" class=\"hnuser\">SomeSnail</a> <span class=\"age\"><a href=\"item?id=22726416\">4 hours ago</a></span> <span id=\"unv_22726416\"></span> | <a href=\"hide?id=22726416&amp;goto=news\">hide</a> | <a href=\"item?id=22726416\">71&nbsp;comments</a>              </td></tr>\n",
      "      <tr class=\"spacer\" style=\"height:5px\"></tr>\n",
      "                <tr class='athing' id='22725015'>\n",
      "      <td align=\"right\" valign=\"top\" class=\"title\"><span class=\"rank\">3.</span></td>      <td valign=\"top\" class=\"votelinks\"><center><a id='up_22725015' href='vote?id=22725015&amp;how=up&amp;goto=news'><div class='votearrow' title='upvote'></div></a></center></td><td class=\"title\"><a href=\"https://www.bhencke.com/blog/2019/3/15/a-hill-to-die-on\" class=\"storylink\">Lead-Free Solder Is Better for You</a><span class=\"sitebit comhead\"> (<a href=\"from?site=bhencke.com\"><span class=\"sitestr\">bhencke.com</span></a>)</span></td></tr><tr><td colspan=\"2\"></td><td class=\"subtext\">\n",
      "        <span class=\"score\" id=\"score_22725015\">300 points</span> by <a href=\"user?id=luu\" class=\"hnuser\">luu</a> <span class=\"age\"><a href=\"item?id=22725015\">10 hours ago</a></span> <span id=\"unv_22725015\"></span> | <a href=\"hide?id=22725015&amp;goto=news\">hide</a> | <a href=\"item?id=22725015\">149&nbsp;comments</a>              </td></tr>\n",
      "      <tr class=\"spacer\" style=\"height:5px\"></tr>\n",
      "                <tr class='athing' id='22728142'>\n",
      "      <td align=\"right\" valign=\"top\" class=\"title\"><span class=\"rank\">4.</span></td>      <td valign=\"top\" class=\"votelinks\"><center><a id='up_22728142' href='vote?id=22728142&amp;how=up&amp;goto=news'><div class='votearrow' title='upvote'></div></a></center></td><td class=\"title\"><a href=\"https://www.acm.org/articles/bulletins/2020/march/dl-access-during-covid-19\" class=\"storylink\">Open Access to ACM Digital Library During Coronavirus Pandemic</a><span class=\"sitebit comhead\"> (<a href=\"from?site=acm.org\"><span class=\"sitestr\">acm.org</span></a>)</span></td></tr><tr><td colspan=\"2\"></td><td class=\"subtext\">\n",
      "        <span class=\"score\" id=\"score_22728142\">13 points</span> by <a href=\"user?id=scott_s\" class=\"hnuser\">scott_s</a> <span class=\"age\"><a href=\"item?id=22728142\">16 minutes ago</a></span> <span id=\"unv_22728142\"></span> | <a href=\"hide?id=22728142&amp;goto=news\">hide</a> | <a href=\"item?id=22728142\">discuss</a>              </td></tr>\n",
      "      <tr class=\"spacer\" style=\"height:5px\"></tr>\n",
      "                <tr class='athing' id='22725274'>\n",
      "      <td align=\"right\" valign=\"top\" class=\"title\"><span class=\"rank\">5.</span></td>      <td valign=\"top\" class=\"votelinks\"><center><a id='up_22725274' href='vote?id=22725274&amp;how=up&amp;goto=news'><div class='votearrow' title='upvote'></div></a></center></td><td class=\"title\"><a href=\"https://narratively.com/the-acrobatic-immigrant-who-invented-pilates-in-a-prisoner-of-war-camp/\" class=\"storylink\">The Acrobatic Immigrant Who Invented Pilates in a Prisoner of War Camp</a><span class=\"sitebit comhead\"> (<a href=\"from?site=narratively.com\"><span class=\"sitestr\">narratively.com</span></a>)</span></td></tr><tr><td colspan=\"2\"></td><td class=\"subtext\">\n",
      "        <span class=\"score\" id=\"score_22725274\">10 points</span> by <a href=\"user?id=apollinaire\" class=\"hnuser\">apollinaire</a> <span class=\"age\"><a href=\"item?id=22725274\">1 hour ago</a></span> <span id=\"unv_22725274\"></span> | <a href=\"hide?id=22725274&amp;goto=news\">hide</a> | <a href=\"item?id=22725274\">discuss</a>              </td></tr>\n",
      "      <tr class=\"spacer\" style=\"height:5px\"></tr>\n",
      "                <tr class='athing' id='22717367'>\n",
      "      <td align=\"right\" valign=\"top\" class=\"title\"><span class=\"rank\">6.</span></td>      <td valign=\"top\" class=\"votelinks\"><center><a id='up_22717367' href='vote?id=22717367&amp;how=up&amp;goto=news'><div class='votearrow' title='upvote'></div></a></center></td><td class=\"title\"><a href=\"https://blog.cerebralab.com/When_to_assume_neural_networks_can_solve_a_problem\" class=\"storylink\">When to assume neural networks can solve a problem</a><span class=\"sitebit comhead\"> (<a href=\"from?site=cerebralab.com\"><span class=\"sitestr\">cerebralab.com</span></a>)</span></td></tr><tr><td colspan=\"2\"></td><td class=\"subtext\">\n",
      "        <span class=\"score\" id=\"score_22717367\">59 points</span> by <a href=\"user?id=george3d6\" class=\"hnuser\">george3d6</a> <span class=\"age\"><a href=\"item?id=22717367\">5 hours ago</a></span> <span id=\"unv_22717367\"></span> | <a href=\"hide?id=22717367&amp;goto=news\">hide</a> | <a href=\"item?id=22717367\">6&nbsp;comments</a>              </td></tr>\n",
      "      <tr class=\"spacer\" style=\"height:5px\"></tr>\n",
      "                <tr class='athing' id='22725651'>\n",
      "      <td align=\"right\" valign=\"top\" class=\"title\"><span class=\"rank\">7.</span></td>      <td valign=\"top\" class=\"votelinks\"><center><a id='up_22725651' href='vote?id=22725651&amp;how=up&amp;goto=news'><div class='votearrow' title='upvote'></div></a></center></td><td class=\"title\"><a href=\"https://gifcap.dev/\" class=\"storylink\">Show HN: Gifcap, a browser based client-side GIF screen recording tool</a><span class=\"sitebit comhead\"> (<a href=\"from?site=gifcap.dev\"><span class=\"sitestr\">gifcap.dev</span></a>)</span></td></tr><tr><td colspan=\"2\"></td><td class=\"subtext\">\n",
      "        <span class=\"score\" id=\"score_22725651\">19 points</span> by <a href=\"user?id=joaomoreno\" class=\"hnuser\">joaomoreno</a> <span class=\"age\"><a href=\"item?id=22725651\">1 hour ago</a></span> <span id=\"unv_22725651\"></span> | <a href=\"hide?id=22725651&amp;goto=news\">hide</a> | <a href=\"item?id=22725651\">5&nbsp;comments</a>              </td></tr>\n",
      "      <tr class=\"spacer\" style=\"height:5px\"></tr>\n",
      "                <tr class='athing' id='22727882'>\n",
      "      <td align=\"right\" valign=\"top\" class=\"title\"><span class=\"rank\">8.</span></td>      <td valign=\"top\" class=\"votelinks\"><center><a id='up_22727882' href='vote?id=22727882&amp;how=up&amp;goto=news'><div class='votearrow' title='upvote'></div></a></center></td><td class=\"title\"><a href=\"https://physicsworld.com/a/first-principles-calculations-shed-light-on-semiconductor-defects/\" class=\"storylink\" rel=\"nofollow\">First-principles calculations shed light on semiconductor defects</a><span class=\"sitebit comhead\"> (<a href=\"from?site=physicsworld.com\"><span class=\"sitestr\">physicsworld.com</span></a>)</span></td></tr><tr><td colspan=\"2\"></td><td class=\"subtext\">\n",
      "        <span class=\"score\" id=\"score_22727882\">4 points</span> by <a href=\"user?id=jchanimal\" class=\"hnuser\">jchanimal</a> <span class=\"age\"><a href=\"item?id=22727882\">49 minutes ago</a></span> <span id=\"unv_22727882\"></span> | <a href=\"hide?id=22727882&amp;goto=news\">hide</a> | <a href=\"item?id=22727882\">discuss</a>              </td></tr>\n",
      "      <tr class=\"spacer\" style=\"height:5px\"></tr>\n",
      "                <tr class='athing' id='22718405'>\n",
      "      <td align=\"right\" valign=\"top\" class=\"title\"><span class=\"rank\">9.</span></td>      <td valign=\"top\" class=\"votelinks\"><center><a id='up_22718405' href='vote?id=22718405&amp;how=up&amp;goto=news'><div class='votearrow' title='upvote'></div></a></center></td><td class=\"title\"><a href=\"https://github.com/pkamenarsky/concur-static\" class=\"storylink\">Generate semi-dynamic UIs with Haskell</a><span class=\"sitebit comhead\"> (<a href=\"from?site=github.com\"><span class=\"sitestr\">github.com</span></a>)</span></td></tr><tr><td colspan=\"2\"></td><td class=\"subtext\">\n",
      "        <span class=\"score\" id=\"score_22718405\">12 points</span> by <a href=\"user?id=pka\" class=\"hnuser\">pka</a> <span class=\"age\"><a href=\"item?id=22718405\">2 hours ago</a></span> <span id=\"unv_22718405\"></span> | <a href=\"hide?id=22718405&amp;goto=news\">hide</a> | <a href=\"item?id=22718405\">2&nbsp;comments</a>              </td></tr>\n",
      "      <tr class=\"spacer\" style=\"height:5px\"></tr>\n",
      "                <tr class='athing' id='22725905'>\n",
      "      <td align=\"right\" valign=\"top\" class=\"title\"><span class=\"rank\">10.</span></td>      <td valign=\"top\" class=\"votelinks\"><center><a id='up_22725905' href='vote?id=22725905&amp;how=up&amp;goto=news'><div class='votearrow' title='upvote'></div></a></center></td><td class=\"title\"><a href=\"https://uk.reuters.com/article/uk-france-business-buybacks/french-companies-benefiting-from-state-aid-cant-buy-back-shares-minister-idUKKBN21H0RI\" class=\"storylink\">French companies benefiting from state aid can't buy back shares</a><span class=\"sitebit comhead\"> (<a href=\"from?site=reuters.com\"><span class=\"sitestr\">reuters.com</span></a>)</span></td></tr><tr><td colspan=\"2\"></td><td class=\"subtext\">\n",
      "        <span class=\"score\" id=\"score_22725905\">279 points</span> by <a href=\"user?id=thg\" class=\"hnuser\">thg</a> <span class=\"age\"><a href=\"item?id=22725905\">7 hours ago</a></span> <span id=\"unv_22725905\"></span> | <a href=\"hide?id=22725905&amp;goto=news\">hide</a> | <a href=\"item?id=22725905\">144&nbsp;comments</a>              </td></tr>\n",
      "      <tr class=\"spacer\" style=\"height:5px\"></tr>\n",
      "                <tr class='athing' id='22727333'>\n",
      "      <td align=\"right\" valign=\"top\" class=\"title\"><span class=\"rank\">11.</span></td>      <td valign=\"top\" class=\"votelinks\"><center><a id='up_22727333' href='vote?id=22727333&amp;how=up&amp;goto=news'><div class='votearrow' title='upvote'></div></a></center></td><td class=\"title\"><a href=\"item?id=22727333\" class=\"storylink\">Entirely offline auto-organizer and text extractor from screenshots in macOS</a></td></tr><tr><td colspan=\"2\"></td><td class=\"subtext\">\n",
      "        <span class=\"score\" id=\"score_22727333\">38 points</span> by <a href=\"user?id=ghostffcode\" class=\"hnuser\">ghostffcode</a> <span class=\"age\"><a href=\"item?id=22727333\">2 hours ago</a></span> <span id=\"unv_22727333\"></span> | <a href=\"hide?id=22727333&amp;goto=news\">hide</a> | <a href=\"item?id=22727333\">17&nbsp;comments</a>              </td></tr>\n",
      "      <tr class=\"spacer\" style=\"height:5px\"></tr>\n",
      "                <tr class='athing' id='22725529'>\n",
      "      <td align=\"right\" valign=\"top\" class=\"title\"><span class=\"rank\">12.</span></td>      <td valign=\"top\" class=\"votelinks\"><center><a id='up_22725529' href='vote?id=22725529&amp;how=up&amp;goto=news'><div class='votearrow' title='upvote'></div></a></center></td><td class=\"title\"><a href=\"https://github.com/rhasspy/rapidfuzz\" class=\"storylink\">Show HN: RapidFuzz – A fast string matching library for Python</a><span class=\"sitebit comhead\"> (<a href=\"from?site=github.com\"><span class=\"sitestr\">github.com</span></a>)</span></td></tr><tr><td colspan=\"2\"></td><td class=\"subtext\">\n",
      "        <span class=\"score\" id=\"score_22725529\">92 points</span> by <a href=\"user?id=maxbachmann\" class=\"hnuser\">maxbachmann</a> <span class=\"age\"><a href=\"item?id=22725529\">8 hours ago</a></span> <span id=\"unv_22725529\"></span> | <a href=\"hide?id=22725529&amp;goto=news\">hide</a> | <a href=\"item?id=22725529\">21&nbsp;comments</a>              </td></tr>\n",
      "      <tr class=\"spacer\" style=\"height:5px\"></tr>\n",
      "                <tr class='athing' id='22726986'>\n",
      "      <td align=\"right\" valign=\"top\" class=\"title\"><span class=\"rank\">13.</span></td>      <td valign=\"top\" class=\"votelinks\"><center><a id='up_22726986' href='vote?id=22726986&amp;how=up&amp;goto=news'><div class='votearrow' title='upvote'></div></a></center></td><td class=\"title\"><a href=\"https://github.com/jetnew/COVID-Resource-Allocation-Simulator\" class=\"storylink\">Agent-Based Modelling for Hospital Resource Allocation in Viral Crises</a><span class=\"sitebit comhead\"> (<a href=\"from?site=github.com\"><span class=\"sitestr\">github.com</span></a>)</span></td></tr><tr><td colspan=\"2\"></td><td class=\"subtext\">\n",
      "        <span class=\"score\" id=\"score_22726986\">30 points</span> by <a href=\"user?id=floodedhere\" class=\"hnuser\">floodedhere</a> <span class=\"age\"><a href=\"item?id=22726986\">3 hours ago</a></span> <span id=\"unv_22726986\"></span> | <a href=\"hide?id=22726986&amp;goto=news\">hide</a> | <a href=\"item?id=22726986\">6&nbsp;comments</a>              </td></tr>\n",
      "      <tr class=\"spacer\" style=\"height:5px\"></tr>\n",
      "                <tr class='athing' id='22716612'>\n",
      "      <td align=\"right\" valign=\"top\" class=\"title\"><span class=\"rank\">14.</span></td>      <td valign=\"top\" class=\"votelinks\"><center><a id='up_22716612' href='vote?id=22716612&amp;how=up&amp;goto=news'><div class='votearrow' title='upvote'></div></a></center></td><td class=\"title\"><a href=\"https://rsapkf.netlify.com/blog/enabling-italics-vim-tmux\" class=\"storylink\">A Definitive Guide to Enabling Italics in Vim and Tmux</a><span class=\"sitebit comhead\"> (<a href=\"from?site=rsapkf.netlify.com\"><span class=\"sitestr\">rsapkf.netlify.com</span></a>)</span></td></tr><tr><td colspan=\"2\"></td><td class=\"subtext\">\n",
      "        <span class=\"score\" id=\"score_22716612\">75 points</span> by <a href=\"user?id=zdw\" class=\"hnuser\">zdw</a> <span class=\"age\"><a href=\"item?id=22716612\">9 hours ago</a></span> <span id=\"unv_22716612\"></span> | <a href=\"hide?id=22716612&amp;goto=news\">hide</a> | <a href=\"item?id=22716612\">24&nbsp;comments</a>              </td></tr>\n",
      "      <tr class=\"spacer\" style=\"height:5px\"></tr>\n",
      "                <tr class='athing' id='22717819'>\n",
      "      <td align=\"right\" valign=\"top\" class=\"title\"><span class=\"rank\">15.</span></td>      <td valign=\"top\" class=\"votelinks\"><center><a id='up_22717819' href='vote?id=22717819&amp;how=up&amp;goto=news'><div class='votearrow' title='upvote'></div></a></center></td><td class=\"title\"><a href=\"https://martinrue.com/give-yourself-more-playtime/\" class=\"storylink\">Give Yourself More Playtime (2015)</a><span class=\"sitebit comhead\"> (<a href=\"from?site=martinrue.com\"><span class=\"sitestr\">martinrue.com</span></a>)</span></td></tr><tr><td colspan=\"2\"></td><td class=\"subtext\">\n",
      "        <span class=\"score\" id=\"score_22717819\">58 points</span> by <a href=\"user?id=martinrue\" class=\"hnuser\">martinrue</a> <span class=\"age\"><a href=\"item?id=22717819\">8 hours ago</a></span> <span id=\"unv_22717819\"></span> | <a href=\"hide?id=22717819&amp;goto=news\">hide</a> | <a href=\"item?id=22717819\">13&nbsp;comments</a>              </td></tr>\n",
      "      <tr class=\"spacer\" style=\"height:5px\"></tr>\n",
      "                <tr class='athing' id='22726004'>\n",
      "      <td align=\"right\" valign=\"top\" class=\"title\"><span class=\"rank\">16.</span></td>      <td valign=\"top\" class=\"votelinks\"><center><a id='up_22726004' href='vote?id=22726004&amp;how=up&amp;goto=news'><div class='votearrow' title='upvote'></div></a></center></td><td class=\"title\"><a href=\"https://magicdocs.co\" class=\"storylink\">Show HN: Magicdocs – Turn Documents into Websites</a><span class=\"sitebit comhead\"> (<a href=\"from?site=magicdocs.co\"><span class=\"sitestr\">magicdocs.co</span></a>)</span></td></tr><tr><td colspan=\"2\"></td><td class=\"subtext\">\n",
      "        <span class=\"score\" id=\"score_22726004\">31 points</span> by <a href=\"user?id=phemartin\" class=\"hnuser\">phemartin</a> <span class=\"age\"><a href=\"item?id=22726004\">6 hours ago</a></span> <span id=\"unv_22726004\"></span> | <a href=\"hide?id=22726004&amp;goto=news\">hide</a> | <a href=\"item?id=22726004\">12&nbsp;comments</a>              </td></tr>\n",
      "      <tr class=\"spacer\" style=\"height:5px\"></tr>\n",
      "                <tr class='athing' id='22725131'>\n",
      "      <td align=\"right\" valign=\"top\" class=\"title\"><span class=\"rank\">17.</span></td>      <td valign=\"top\" class=\"votelinks\"><center><a id='up_22725131' href='vote?id=22725131&amp;how=up&amp;goto=news'><div class='votearrow' title='upvote'></div></a></center></td><td class=\"title\"><a href=\"https://www.nytimes.com/2020/03/26/science/neanderthals-fishing-ocean.html\" class=\"storylink\">Neanderthals Feasted on Seafood, Seabirds, Perhaps Even Dolphins</a><span class=\"sitebit comhead\"> (<a href=\"from?site=nytimes.com\"><span class=\"sitestr\">nytimes.com</span></a>)</span></td></tr><tr><td colspan=\"2\"></td><td class=\"subtext\">\n",
      "        <span class=\"score\" id=\"score_22725131\">50 points</span> by <a href=\"user?id=Thevet\" class=\"hnuser\">Thevet</a> <span class=\"age\"><a href=\"item?id=22725131\">10 hours ago</a></span> <span id=\"unv_22725131\"></span> | <a href=\"hide?id=22725131&amp;goto=news\">hide</a> | <a href=\"item?id=22725131\">32&nbsp;comments</a>              </td></tr>\n",
      "      <tr class=\"spacer\" style=\"height:5px\"></tr>\n",
      "                <tr class='athing' id='22716824'>\n",
      "      <td align=\"right\" valign=\"top\" class=\"title\"><span class=\"rank\">18.</span></td>      <td valign=\"top\" class=\"votelinks\"><center><a id='up_22716824' href='vote?id=22716824&amp;how=up&amp;goto=news'><div class='votearrow' title='upvote'></div></a></center></td><td class=\"title\"><a href=\"http://mihaiolteanu.me/vuiet/\" class=\"storylink\">Vuiet, the long road to building my own music player in Lisp</a><span class=\"sitebit comhead\"> (<a href=\"from?site=mihaiolteanu.me\"><span class=\"sitestr\">mihaiolteanu.me</span></a>)</span></td></tr><tr><td colspan=\"2\"></td><td class=\"subtext\">\n",
      "        <span class=\"score\" id=\"score_22716824\">45 points</span> by <a href=\"user?id=molteanu\" class=\"hnuser\">molteanu</a> <span class=\"age\"><a href=\"item?id=22716824\">8 hours ago</a></span> <span id=\"unv_22716824\"></span> | <a href=\"hide?id=22716824&amp;goto=news\">hide</a> | <a href=\"item?id=22716824\">2&nbsp;comments</a>              </td></tr>\n",
      "      <tr class=\"spacer\" style=\"height:5px\"></tr>\n",
      "                <tr class='athing' id='22728049'>\n",
      "      <td align=\"right\" valign=\"top\" class=\"title\"><span class=\"rank\">19.</span></td>      <td valign=\"top\" class=\"votelinks\"><center><a id='up_22728049' href='vote?id=22728049&amp;how=up&amp;goto=news'><div class='votearrow' title='upvote'></div></a></center></td><td class=\"title\"><a href=\"https://www.quiverquant.com/covidtreatments\" class=\"storylink\" rel=\"nofollow\">Show HN: Covid-19 Treatment Dashboard</a><span class=\"sitebit comhead\"> (<a href=\"from?site=quiverquant.com\"><span class=\"sitestr\">quiverquant.com</span></a>)</span></td></tr><tr><td colspan=\"2\"></td><td class=\"subtext\">\n",
      "        <span class=\"score\" id=\"score_22728049\">9 points</span> by <a href=\"user?id=greatwave1\" class=\"hnuser\">greatwave1</a> <span class=\"age\"><a href=\"item?id=22728049\">28 minutes ago</a></span> <span id=\"unv_22728049\"></span> | <a href=\"hide?id=22728049&amp;goto=news\">hide</a> | <a href=\"item?id=22728049\">3&nbsp;comments</a>              </td></tr>\n",
      "      <tr class=\"spacer\" style=\"height:5px\"></tr>\n",
      "                <tr class='athing' id='22717900'>\n",
      "      <td align=\"right\" valign=\"top\" class=\"title\"><span class=\"rank\">20.</span></td>      <td valign=\"top\" class=\"votelinks\"><center><a id='up_22717900' href='vote?id=22717900&amp;how=up&amp;goto=news'><div class='votearrow' title='upvote'></div></a></center></td><td class=\"title\"><a href=\"https://webcloud.se/blog/2020-03-12-nextjs-without-client-side-react/\" class=\"storylink\">Server-Side Only React with Next</a><span class=\"sitebit comhead\"> (<a href=\"from?site=webcloud.se\"><span class=\"sitestr\">webcloud.se</span></a>)</span></td></tr><tr><td colspan=\"2\"></td><td class=\"subtext\">\n",
      "        <span class=\"score\" id=\"score_22717900\">71 points</span> by <a href=\"user?id=danielstocks\" class=\"hnuser\">danielstocks</a> <span class=\"age\"><a href=\"item?id=22717900\">5 hours ago</a></span> <span id=\"unv_22717900\"></span> | <a href=\"hide?id=22717900&amp;goto=news\">hide</a> | <a href=\"item?id=22717900\">44&nbsp;comments</a>              </td></tr>\n",
      "      <tr class=\"spacer\" style=\"height:5px\"></tr>\n",
      "                <tr class='athing' id='22725451'>\n",
      "      <td align=\"right\" valign=\"top\" class=\"title\"><span class=\"rank\">21.</span></td>      <td valign=\"top\" class=\"votelinks\"><center><a id='up_22725451' href='vote?id=22725451&amp;how=up&amp;goto=news'><div class='votearrow' title='upvote'></div></a></center></td><td class=\"title\"><a href=\"http://biomed-sanity.com\" class=\"storylink\">Covid-19 Sanity – Covid-19 papers from bioRxiv/medRxiv searchable and sortable</a><span class=\"sitebit comhead\"> (<a href=\"from?site=biomed-sanity.com\"><span class=\"sitestr\">biomed-sanity.com</span></a>)</span></td></tr><tr><td colspan=\"2\"></td><td class=\"subtext\">\n",
      "        <span class=\"score\" id=\"score_22725451\">96 points</span> by <a href=\"user?id=hardmaru\" class=\"hnuser\">hardmaru</a> <span class=\"age\"><a href=\"item?id=22725451\">9 hours ago</a></span> <span id=\"unv_22725451\"></span> | <a href=\"hide?id=22725451&amp;goto=news\">hide</a> | <a href=\"item?id=22725451\">55&nbsp;comments</a>              </td></tr>\n",
      "      <tr class=\"spacer\" style=\"height:5px\"></tr>\n",
      "                <tr class='athing' id='22722211'>\n",
      "      <td align=\"right\" valign=\"top\" class=\"title\"><span class=\"rank\">22.</span></td>      <td valign=\"top\" class=\"votelinks\"><center><a id='up_22722211' href='vote?id=22722211&amp;how=up&amp;goto=news'><div class='votearrow' title='upvote'></div></a></center></td><td class=\"title\"><a href=\"https://www.zdnet.com/article/microsoft-cloud-services-demand-up-775-percent-prioritization-rules-in-place-due-to-covid-19/\" class=\"storylink\">Microsoft: Cloud services demand up, prioritization rules in place</a><span class=\"sitebit comhead\"> (<a href=\"from?site=zdnet.com\"><span class=\"sitestr\">zdnet.com</span></a>)</span></td></tr><tr><td colspan=\"2\"></td><td class=\"subtext\">\n",
      "        <span class=\"score\" id=\"score_22722211\">442 points</span> by <a href=\"user?id=pul\" class=\"hnuser\">pul</a> <span class=\"age\"><a href=\"item?id=22722211\">18 hours ago</a></span> <span id=\"unv_22722211\"></span> | <a href=\"hide?id=22722211&amp;goto=news\">hide</a> | <a href=\"item?id=22722211\">235&nbsp;comments</a>              </td></tr>\n",
      "      <tr class=\"spacer\" style=\"height:5px\"></tr>\n",
      "                <tr class='athing' id='22723884'>\n",
      "      <td align=\"right\" valign=\"top\" class=\"title\"><span class=\"rank\">23.</span></td>      <td valign=\"top\" class=\"votelinks\"><center><a id='up_22723884' href='vote?id=22723884&amp;how=up&amp;goto=news'><div class='votearrow' title='upvote'></div></a></center></td><td class=\"title\"><a href=\"https://www.youtube.com/watch?v=IK7nBOLYzdE\" class=\"storylink\">Cellular Automata: Rule 30 fed as input to Conway’s Game of Life (2019) [video]</a><span class=\"sitebit comhead\"> (<a href=\"from?site=youtube.com\"><span class=\"sitestr\">youtube.com</span></a>)</span></td></tr><tr><td colspan=\"2\"></td><td class=\"subtext\">\n",
      "        <span class=\"score\" id=\"score_22723884\">117 points</span> by <a href=\"user?id=torotonnato\" class=\"hnuser\">torotonnato</a> <span class=\"age\"><a href=\"item?id=22723884\">14 hours ago</a></span> <span id=\"unv_22723884\"></span> | <a href=\"hide?id=22723884&amp;goto=news\">hide</a> | <a href=\"item?id=22723884\">26&nbsp;comments</a>              </td></tr>\n",
      "      <tr class=\"spacer\" style=\"height:5px\"></tr>\n",
      "                <tr class='athing' id='22715268'>\n",
      "      <td align=\"right\" valign=\"top\" class=\"title\"><span class=\"rank\">24.</span></td>      <td valign=\"top\" class=\"votelinks\"><center><a id='up_22715268' href='vote?id=22715268&amp;how=up&amp;goto=news'><div class='votearrow' title='upvote'></div></a></center></td><td class=\"title\"><a href=\"http://leahneukirchen.org/blog/archive/2020/03/determining-an-election-in-k.html\" class=\"storylink\">Determining an Election in K</a><span class=\"sitebit comhead\"> (<a href=\"from?site=leahneukirchen.org\"><span class=\"sitestr\">leahneukirchen.org</span></a>)</span></td></tr><tr><td colspan=\"2\"></td><td class=\"subtext\">\n",
      "        <span class=\"score\" id=\"score_22715268\">65 points</span> by <a href=\"user?id=luu\" class=\"hnuser\">luu</a> <span class=\"age\"><a href=\"item?id=22715268\">13 hours ago</a></span> <span id=\"unv_22715268\"></span> | <a href=\"hide?id=22715268&amp;goto=news\">hide</a> | <a href=\"item?id=22715268\">19&nbsp;comments</a>              </td></tr>\n",
      "      <tr class=\"spacer\" style=\"height:5px\"></tr>\n",
      "                <tr class='athing' id='22721123'>\n",
      "      <td align=\"right\" valign=\"top\" class=\"title\"><span class=\"rank\">25.</span></td>      <td valign=\"top\" class=\"votelinks\"><center><a id='up_22721123' href='vote?id=22721123&amp;how=up&amp;goto=news'><div class='votearrow' title='upvote'></div></a></center></td><td class=\"title\"><a href=\"https://www.colorabl.es/\" class=\"storylink\">Grab your crayons, it’s coloring time</a><span class=\"sitebit comhead\"> (<a href=\"from?site=colorabl.es\"><span class=\"sitestr\">colorabl.es</span></a>)</span></td></tr><tr><td colspan=\"2\"></td><td class=\"subtext\">\n",
      "        <span class=\"score\" id=\"score_22721123\">321 points</span> by <a href=\"user?id=kirillzubovsky\" class=\"hnuser\">kirillzubovsky</a> <span class=\"age\"><a href=\"item?id=22721123\">15 hours ago</a></span> <span id=\"unv_22721123\"></span> | <a href=\"hide?id=22721123&amp;goto=news\">hide</a> | <a href=\"item?id=22721123\">44&nbsp;comments</a>              </td></tr>\n",
      "      <tr class=\"spacer\" style=\"height:5px\"></tr>\n",
      "                <tr class='athing' id='22727809'>\n",
      "      <td align=\"right\" valign=\"top\" class=\"title\"><span class=\"rank\">26.</span></td>      <td valign=\"top\" class=\"votelinks\"><center><a id='up_22727809' href='vote?id=22727809&amp;how=up&amp;goto=news'><div class='votearrow' title='upvote'></div></a></center></td><td class=\"title\"><a href=\"https://blog.coworkies.com/covid-19-and-coworking-useful-resources-globally/\" class=\"storylink\" rel=\"nofollow\">Resources available to co-working spaces during Covid-19</a><span class=\"sitebit comhead\"> (<a href=\"from?site=coworkies.com\"><span class=\"sitestr\">coworkies.com</span></a>)</span></td></tr><tr><td colspan=\"2\"></td><td class=\"subtext\">\n",
      "        <span class=\"score\" id=\"score_22727809\">8 points</span> by <a href=\"user?id=paulineroussel\" class=\"hnuser\">paulineroussel</a> <span class=\"age\"><a href=\"item?id=22727809\">1 hour ago</a></span> <span id=\"unv_22727809\"></span> | <a href=\"hide?id=22727809&amp;goto=news\">hide</a> | <a href=\"item?id=22727809\">2&nbsp;comments</a>              </td></tr>\n",
      "      <tr class=\"spacer\" style=\"height:5px\"></tr>\n",
      "                <tr class='athing' id='22713443'>\n",
      "      <td align=\"right\" valign=\"top\" class=\"title\"><span class=\"rank\">27.</span></td>      <td valign=\"top\" class=\"votelinks\"><center><a id='up_22713443' href='vote?id=22713443&amp;how=up&amp;goto=news'><div class='votearrow' title='upvote'></div></a></center></td><td class=\"title\"><a href=\"https://www.atlasobscura.com/articles/ancient-ballcourt-oaxaca-expands-sport-footprint\" class=\"storylink\">An Ancient Ballcourt in Oaxaca Expands a Sport’s Footprint</a><span class=\"sitebit comhead\"> (<a href=\"from?site=atlasobscura.com\"><span class=\"sitestr\">atlasobscura.com</span></a>)</span></td></tr><tr><td colspan=\"2\"></td><td class=\"subtext\">\n",
      "        <span class=\"score\" id=\"score_22713443\">49 points</span> by <a href=\"user?id=Thevet\" class=\"hnuser\">Thevet</a> <span class=\"age\"><a href=\"item?id=22713443\">14 hours ago</a></span> <span id=\"unv_22713443\"></span> | <a href=\"hide?id=22713443&amp;goto=news\">hide</a> | <a href=\"item?id=22713443\">5&nbsp;comments</a>              </td></tr>\n",
      "      <tr class=\"spacer\" style=\"height:5px\"></tr>\n",
      "                <tr class='athing' id='22726930'>\n",
      "      <td align=\"right\" valign=\"top\" class=\"title\"><span class=\"rank\">28.</span></td>      <td valign=\"top\" class=\"votelinks\"><center><a id='up_22726930' href='vote?id=22726930&amp;how=up&amp;goto=news'><div class='votearrow' title='upvote'></div></a></center></td><td class=\"title\"><a href=\"https://blog.cloudflare.com/introducing-quicksilver-configuration-distribution-at-internet-scale/\" class=\"storylink\">Quicksilver: Configuration Distribution at Internet Scale</a><span class=\"sitebit comhead\"> (<a href=\"from?site=cloudflare.com\"><span class=\"sitestr\">cloudflare.com</span></a>)</span></td></tr><tr><td colspan=\"2\"></td><td class=\"subtext\">\n",
      "        <span class=\"score\" id=\"score_22726930\">26 points</span> by <a href=\"user?id=migueldemoura\" class=\"hnuser\">migueldemoura</a> <span class=\"age\"><a href=\"item?id=22726930\">3 hours ago</a></span> <span id=\"unv_22726930\"></span> | <a href=\"hide?id=22726930&amp;goto=news\">hide</a> | <a href=\"item?id=22726930\">4&nbsp;comments</a>              </td></tr>\n",
      "      <tr class=\"spacer\" style=\"height:5px\"></tr>\n",
      "                <tr class='athing' id='22718330'>\n",
      "      <td align=\"right\" valign=\"top\" class=\"title\"><span class=\"rank\">29.</span></td>      <td valign=\"top\" class=\"votelinks\"><center><a id='up_22718330' href='vote?id=22718330&amp;how=up&amp;goto=news'><div class='votearrow' title='upvote'></div></a></center></td><td class=\"title\"><a href=\"https://mijailovic.net/2020/03/28/azure-money-burning/\" class=\"storylink\">How to burn the most money with a single click in Azure</a><span class=\"sitebit comhead\"> (<a href=\"from?site=mijailovic.net\"><span class=\"sitestr\">mijailovic.net</span></a>)</span></td></tr><tr><td colspan=\"2\"></td><td class=\"subtext\">\n",
      "        <span class=\"score\" id=\"score_22718330\">654 points</span> by <a href=\"user?id=Metalnem\" class=\"hnuser\">Metalnem</a> <span class=\"age\"><a href=\"item?id=22718330\">1 day ago</a></span> <span id=\"unv_22718330\"></span> | <a href=\"hide?id=22718330&amp;goto=news\">hide</a> | <a href=\"item?id=22718330\">370&nbsp;comments</a>              </td></tr>\n",
      "      <tr class=\"spacer\" style=\"height:5px\"></tr>\n",
      "                <tr class='athing' id='22726481'>\n",
      "      <td align=\"right\" valign=\"top\" class=\"title\"><span class=\"rank\">30.</span></td>      <td valign=\"top\" class=\"votelinks\"><center><a id='up_22726481' href='vote?id=22726481&amp;how=up&amp;goto=news'><div class='votearrow' title='upvote'></div></a></center></td><td class=\"title\"><a href=\"http://morrick.me/archives/8840\" class=\"storylink\" rel=\"nofollow\">Yes to everything</a><span class=\"sitebit comhead\"> (<a href=\"from?site=morrick.me\"><span class=\"sitestr\">morrick.me</span></a>)</span></td></tr><tr><td colspan=\"2\"></td><td class=\"subtext\">\n",
      "        <span class=\"score\" id=\"score_22726481\">5 points</span> by <a href=\"user?id=wyclif\" class=\"hnuser\">wyclif</a> <span class=\"age\"><a href=\"item?id=22726481\">4 hours ago</a></span> <span id=\"unv_22726481\"></span> | <a href=\"hide?id=22726481&amp;goto=news\">hide</a> | <a href=\"item?id=22726481\">discuss</a>              </td></tr>\n",
      "      <tr class=\"spacer\" style=\"height:5px\"></tr>\n",
      "            <tr class=\"morespace\" style=\"height:10px\"></tr><tr><td colspan=\"2\"></td><td class=\"title\"><a href=\"news?p=2\" class=\"morelink\" rel=\"next\">More</a></td></tr>\n",
      "  </table>\n",
      "</td></tr>\n",
      "<tr><td><img src=\"s.gif\" height=\"10\" width=\"0\"><table width=\"100%\" cellspacing=\"0\" cellpadding=\"1\"><tr><td bgcolor=\"#ff6600\"></td></tr></table><br><center><span class=\"yclinks\"><a href=\"newsguidelines.html\">Guidelines</a>\n",
      "        | <a href=\"newsfaq.html\">FAQ</a>\n",
      "        | <a href=\"mailto:hn@ycombinator.com\">Support</a>\n",
      "        | <a href=\"https://github.com/HackerNews/API\">API</a>\n",
      "        | <a href=\"security.html\">Security</a>\n",
      "        | <a href=\"lists\">Lists</a>\n",
      "        | <a href=\"bookmarklet.html\" rel=\"nofollow\">Bookmarklet</a>\n",
      "        | <a href=\"http://www.ycombinator.com/legal/\">Legal</a>\n",
      "        | <a href=\"http://www.ycombinator.com/apply/\">Apply to YC</a>\n",
      "        | <a href=\"mailto:hn@ycombinator.com\">Contact</a></span><br><br><form method=\"get\" action=\"//hn.algolia.com/\">Search:\n",
      "          <input type=\"text\" name=\"q\" value=\"\" size=\"17\" autocorrect=\"off\" spellcheck=\"false\" autocapitalize=\"off\" autocomplete=\"false\"></form>\n",
      "            </center></td></tr>\n",
      "      </table></center></body><script type='text/javascript' src='hn.js?ryW9A4l3hsJvd6D7sOQl'></script></html>\n",
      "\n"
     ]
    }
   ],
   "source": [
    "import requests\n",
    "\n",
    "# Fetch a web page\n",
    "r = requests.get(\"https://news.ycombinator.com\")\n",
    "print(r.text)"
   ]
  },
  {
   "cell_type": "code",
   "execution_count": 5,
   "metadata": {},
   "outputs": [
    {
     "name": "stdout",
     "output_type": "stream",
     "text": [
      "\n",
      "        \n",
      "          \n",
      "        Hacker News\n",
      "        \n",
      "                  Hacker News\n",
      "              new | past | comments | ask | show | jobs | submit            \n",
      "                              login\n",
      "                          \n",
      "              \n",
      "\n",
      "              \n",
      "      1.      WireGuard 1.0.0 (kernel.org)\n",
      "        319 points by iamd3vil 2 hours ago  | hide | 40&nbsp;comments              \n",
      "      \n",
      "                \n",
      "      2.      Linux 5.6 (kernel.org)\n",
      "        276 points by SomeSnail 4 hours ago  | hide | 71&nbsp;comments              \n",
      "      \n",
      "                \n",
      "      3.      Lead-Free Solder Is Better for You (bhencke.com)\n",
      "        300 points by luu 10 hours ago  | hide | 149&nbsp;comments              \n",
      "      \n",
      "                \n",
      "      4.      Open Access to ACM Digital Library During Coronavirus Pandemic (acm.org)\n",
      "        13 points by scott_s 16 minutes ago  | hide | discuss              \n",
      "      \n",
      "                \n",
      "      5.      The Acrobatic Immigrant Who Invented Pilates in a Prisoner of War Camp (narratively.com)\n",
      "        10 points by apollinaire 1 hour ago  | hide | discuss              \n",
      "      \n",
      "                \n",
      "      6.      When to assume neural networks can solve a problem (cerebralab.com)\n",
      "        59 points by george3d6 5 hours ago  | hide | 6&nbsp;comments              \n",
      "      \n",
      "                \n",
      "      7.      Show HN: Gifcap, a browser based client-side GIF screen recording tool (gifcap.dev)\n",
      "        19 points by joaomoreno 1 hour ago  | hide | 5&nbsp;comments              \n",
      "      \n",
      "                \n",
      "      8.      First-principles calculations shed light on semiconductor defects (physicsworld.com)\n",
      "        4 points by jchanimal 49 minutes ago  | hide | discuss              \n",
      "      \n",
      "                \n",
      "      9.      Generate semi-dynamic UIs with Haskell (github.com)\n",
      "        12 points by pka 2 hours ago  | hide | 2&nbsp;comments              \n",
      "      \n",
      "                \n",
      "      10.      French companies benefiting from state aid can't buy back shares (reuters.com)\n",
      "        279 points by thg 7 hours ago  | hide | 144&nbsp;comments              \n",
      "      \n",
      "                \n",
      "      11.      Entirely offline auto-organizer and text extractor from screenshots in macOS\n",
      "        38 points by ghostffcode 2 hours ago  | hide | 17&nbsp;comments              \n",
      "      \n",
      "                \n",
      "      12.      Show HN: RapidFuzz – A fast string matching library for Python (github.com)\n",
      "        92 points by maxbachmann 8 hours ago  | hide | 21&nbsp;comments              \n",
      "      \n",
      "                \n",
      "      13.      Agent-Based Modelling for Hospital Resource Allocation in Viral Crises (github.com)\n",
      "        30 points by floodedhere 3 hours ago  | hide | 6&nbsp;comments              \n",
      "      \n",
      "                \n",
      "      14.      A Definitive Guide to Enabling Italics in Vim and Tmux (rsapkf.netlify.com)\n",
      "        75 points by zdw 9 hours ago  | hide | 24&nbsp;comments              \n",
      "      \n",
      "                \n",
      "      15.      Give Yourself More Playtime (2015) (martinrue.com)\n",
      "        58 points by martinrue 8 hours ago  | hide | 13&nbsp;comments              \n",
      "      \n",
      "                \n",
      "      16.      Show HN: Magicdocs – Turn Documents into Websites (magicdocs.co)\n",
      "        31 points by phemartin 6 hours ago  | hide | 12&nbsp;comments              \n",
      "      \n",
      "                \n",
      "      17.      Neanderthals Feasted on Seafood, Seabirds, Perhaps Even Dolphins (nytimes.com)\n",
      "        50 points by Thevet 10 hours ago  | hide | 32&nbsp;comments              \n",
      "      \n",
      "                \n",
      "      18.      Vuiet, the long road to building my own music player in Lisp (mihaiolteanu.me)\n",
      "        45 points by molteanu 8 hours ago  | hide | 2&nbsp;comments              \n",
      "      \n",
      "                \n",
      "      19.      Show HN: Covid-19 Treatment Dashboard (quiverquant.com)\n",
      "        9 points by greatwave1 28 minutes ago  | hide | 3&nbsp;comments              \n",
      "      \n",
      "                \n",
      "      20.      Server-Side Only React with Next (webcloud.se)\n",
      "        71 points by danielstocks 5 hours ago  | hide | 44&nbsp;comments              \n",
      "      \n",
      "                \n",
      "      21.      Covid-19 Sanity – Covid-19 papers from bioRxiv/medRxiv searchable and sortable (biomed-sanity.com)\n",
      "        96 points by hardmaru 9 hours ago  | hide | 55&nbsp;comments              \n",
      "      \n",
      "                \n",
      "      22.      Microsoft: Cloud services demand up, prioritization rules in place (zdnet.com)\n",
      "        442 points by pul 18 hours ago  | hide | 235&nbsp;comments              \n",
      "      \n",
      "                \n",
      "      23.      Cellular Automata: Rule 30 fed as input to Conway’s Game of Life (2019) [video] (youtube.com)\n",
      "        117 points by torotonnato 14 hours ago  | hide | 26&nbsp;comments              \n",
      "      \n",
      "                \n",
      "      24.      Determining an Election in K (leahneukirchen.org)\n",
      "        65 points by luu 13 hours ago  | hide | 19&nbsp;comments              \n",
      "      \n",
      "                \n",
      "      25.      Grab your crayons, it’s coloring time (colorabl.es)\n",
      "        321 points by kirillzubovsky 15 hours ago  | hide | 44&nbsp;comments              \n",
      "      \n",
      "                \n",
      "      26.      Resources available to co-working spaces during Covid-19 (coworkies.com)\n",
      "        8 points by paulineroussel 1 hour ago  | hide | 2&nbsp;comments              \n",
      "      \n",
      "                \n",
      "      27.      An Ancient Ballcourt in Oaxaca Expands a Sport’s Footprint (atlasobscura.com)\n",
      "        49 points by Thevet 14 hours ago  | hide | 5&nbsp;comments              \n",
      "      \n",
      "                \n",
      "      28.      Quicksilver: Configuration Distribution at Internet Scale (cloudflare.com)\n",
      "        26 points by migueldemoura 3 hours ago  | hide | 4&nbsp;comments              \n",
      "      \n",
      "                \n",
      "      29.      How to burn the most money with a single click in Azure (mijailovic.net)\n",
      "        654 points by Metalnem 1 day ago  | hide | 370&nbsp;comments              \n",
      "      \n",
      "                \n",
      "      30.      Yes to everything (morrick.me)\n",
      "        5 points by wyclif 4 hours ago  | hide | discuss              \n",
      "      \n",
      "            More\n",
      "  \n",
      "\n",
      "Guidelines\n",
      "        | FAQ\n",
      "        | Support\n",
      "        | API\n",
      "        | Security\n",
      "        | Lists\n",
      "        | Bookmarklet\n",
      "        | Legal\n",
      "        | Apply to YC\n",
      "        | ContactSearch:\n",
      "          \n",
      "            \n",
      "      \n",
      "\n"
     ]
    }
   ],
   "source": [
    "import re\n",
    "\n",
    "# Remove HTML tags using RegEx\n",
    "pattern = re.compile(r'<.*?>')  # tags look like <...>\n",
    "print(pattern.sub('', r.text))  # replace them with blank"
   ]
  },
  {
   "cell_type": "code",
   "execution_count": 6,
   "metadata": {},
   "outputs": [
    {
     "name": "stdout",
     "output_type": "stream",
     "text": [
      "\n",
      "        \n",
      "          \n",
      "        Hacker News\n",
      "        \n",
      "                  Hacker News\n",
      "              new | past | comments | ask | show | jobs | submit            \n",
      "                              login\n",
      "                          \n",
      "              \n",
      "\n",
      "              \n",
      "      1.      WireGuard 1.0.0 (kernel.org)\n",
      "        319 points by iamd3vil 2 hours ago  | hide | 40 comments              \n",
      "      \n",
      "                \n",
      "      2.      Linux 5.6 (kernel.org)\n",
      "        276 points by SomeSnail 4 hours ago  | hide | 71 comments              \n",
      "      \n",
      "                \n",
      "      3.      Lead-Free Solder Is Better for You (bhencke.com)\n",
      "        300 points by luu 10 hours ago  | hide | 149 comments              \n",
      "      \n",
      "                \n",
      "      4.      Open Access to ACM Digital Library During Coronavirus Pandemic (acm.org)\n",
      "        13 points by scott_s 16 minutes ago  | hide | discuss              \n",
      "      \n",
      "                \n",
      "      5.      The Acrobatic Immigrant Who Invented Pilates in a Prisoner of War Camp (narratively.com)\n",
      "        10 points by apollinaire 1 hour ago  | hide | discuss              \n",
      "      \n",
      "                \n",
      "      6.      When to assume neural networks can solve a problem (cerebralab.com)\n",
      "        59 points by george3d6 5 hours ago  | hide | 6 comments              \n",
      "      \n",
      "                \n",
      "      7.      Show HN: Gifcap, a browser based client-side GIF screen recording tool (gifcap.dev)\n",
      "        19 points by joaomoreno 1 hour ago  | hide | 5 comments              \n",
      "      \n",
      "                \n",
      "      8.      First-principles calculations shed light on semiconductor defects (physicsworld.com)\n",
      "        4 points by jchanimal 49 minutes ago  | hide | discuss              \n",
      "      \n",
      "                \n",
      "      9.      Generate semi-dynamic UIs with Haskell (github.com)\n",
      "        12 points by pka 2 hours ago  | hide | 2 comments              \n",
      "      \n",
      "                \n",
      "      10.      French companies benefiting from state aid can't buy back shares (reuters.com)\n",
      "        279 points by thg 7 hours ago  | hide | 144 comments              \n",
      "      \n",
      "                \n",
      "      11.      Entirely offline auto-organizer and text extractor from screenshots in macOS\n",
      "        38 points by ghostffcode 2 hours ago  | hide | 17 comments              \n",
      "      \n",
      "                \n",
      "      12.      Show HN: RapidFuzz – A fast string matching library for Python (github.com)\n",
      "        92 points by maxbachmann 8 hours ago  | hide | 21 comments              \n",
      "      \n",
      "                \n",
      "      13.      Agent-Based Modelling for Hospital Resource Allocation in Viral Crises (github.com)\n",
      "        30 points by floodedhere 3 hours ago  | hide | 6 comments              \n",
      "      \n",
      "                \n",
      "      14.      A Definitive Guide to Enabling Italics in Vim and Tmux (rsapkf.netlify.com)\n",
      "        75 points by zdw 9 hours ago  | hide | 24 comments              \n",
      "      \n",
      "                \n",
      "      15.      Give Yourself More Playtime (2015) (martinrue.com)\n",
      "        58 points by martinrue 8 hours ago  | hide | 13 comments              \n",
      "      \n",
      "                \n",
      "      16.      Show HN: Magicdocs – Turn Documents into Websites (magicdocs.co)\n",
      "        31 points by phemartin 6 hours ago  | hide | 12 comments              \n",
      "      \n",
      "                \n",
      "      17.      Neanderthals Feasted on Seafood, Seabirds, Perhaps Even Dolphins (nytimes.com)\n",
      "        50 points by Thevet 10 hours ago  | hide | 32 comments              \n",
      "      \n",
      "                \n",
      "      18.      Vuiet, the long road to building my own music player in Lisp (mihaiolteanu.me)\n",
      "        45 points by molteanu 8 hours ago  | hide | 2 comments              \n",
      "      \n",
      "                \n",
      "      19.      Show HN: Covid-19 Treatment Dashboard (quiverquant.com)\n",
      "        9 points by greatwave1 28 minutes ago  | hide | 3 comments              \n",
      "      \n",
      "                \n",
      "      20.      Server-Side Only React with Next (webcloud.se)\n",
      "        71 points by danielstocks 5 hours ago  | hide | 44 comments              \n",
      "      \n",
      "                \n",
      "      21.      Covid-19 Sanity – Covid-19 papers from bioRxiv/medRxiv searchable and sortable (biomed-sanity.com)\n",
      "        96 points by hardmaru 9 hours ago  | hide | 55 comments              \n",
      "      \n",
      "                \n",
      "      22.      Microsoft: Cloud services demand up, prioritization rules in place (zdnet.com)\n",
      "        442 points by pul 18 hours ago  | hide | 235 comments              \n",
      "      \n",
      "                \n",
      "      23.      Cellular Automata: Rule 30 fed as input to Conway’s Game of Life (2019) [video] (youtube.com)\n",
      "        117 points by torotonnato 14 hours ago  | hide | 26 comments              \n",
      "      \n",
      "                \n",
      "      24.      Determining an Election in K (leahneukirchen.org)\n",
      "        65 points by luu 13 hours ago  | hide | 19 comments              \n",
      "      \n",
      "                \n",
      "      25.      Grab your crayons, it’s coloring time (colorabl.es)\n",
      "        321 points by kirillzubovsky 15 hours ago  | hide | 44 comments              \n",
      "      \n",
      "                \n",
      "      26.      Resources available to co-working spaces during Covid-19 (coworkies.com)\n",
      "        8 points by paulineroussel 1 hour ago  | hide | 2 comments              \n",
      "      \n",
      "                \n",
      "      27.      An Ancient Ballcourt in Oaxaca Expands a Sport’s Footprint (atlasobscura.com)\n",
      "        49 points by Thevet 14 hours ago  | hide | 5 comments              \n",
      "      \n",
      "                \n",
      "      28.      Quicksilver: Configuration Distribution at Internet Scale (cloudflare.com)\n",
      "        26 points by migueldemoura 3 hours ago  | hide | 4 comments              \n",
      "      \n",
      "                \n",
      "      29.      How to burn the most money with a single click in Azure (mijailovic.net)\n",
      "        654 points by Metalnem 1 day ago  | hide | 370 comments              \n",
      "      \n",
      "                \n",
      "      30.      Yes to everything (morrick.me)\n",
      "        5 points by wyclif 4 hours ago  | hide | discuss              \n",
      "      \n",
      "            More\n",
      "  \n",
      "\n",
      "Guidelines\n",
      "        | FAQ\n",
      "        | Support\n",
      "        | API\n",
      "        | Security\n",
      "        | Lists\n",
      "        | Bookmarklet\n",
      "        | Legal\n",
      "        | Apply to YC\n",
      "        | ContactSearch:\n",
      "          \n",
      "            \n",
      "      \n",
      "\n"
     ]
    }
   ],
   "source": [
    "from bs4 import BeautifulSoup\n",
    "\n",
    "# Remove HTML tags using Beautiful Soup library\n",
    "soup = BeautifulSoup(r.text, \"html5lib\")\n",
    "print(soup.get_text())"
   ]
  },
  {
   "cell_type": "code",
   "execution_count": 7,
   "metadata": {
    "scrolled": true
   },
   "outputs": [
    {
     "data": {
      "text/plain": [
       "<tr class=\"athing\" id=\"22727358\">\n",
       "      <td align=\"right\" class=\"title\" valign=\"top\"><span class=\"rank\">1.</span></td>      <td class=\"votelinks\" valign=\"top\"><center><a href=\"vote?id=22727358&amp;how=up&amp;goto=news\" id=\"up_22727358\"><div class=\"votearrow\" title=\"upvote\"></div></a></center></td><td class=\"title\"><a class=\"storylink\" href=\"https://lore.kernel.org/wireguard/CAHmME9qOpDeraWo5rM31EWQW574KEduRBTL-+0A2ZyqBNDeYkg@mail.gmail.com/T/#u\">WireGuard 1.0.0</a><span class=\"sitebit comhead\"> (<a href=\"from?site=kernel.org\"><span class=\"sitestr\">kernel.org</span></a>)</span></td></tr>"
      ]
     },
     "execution_count": 7,
     "metadata": {},
     "output_type": "execute_result"
    }
   ],
   "source": [
    "# Find all articles\n",
    "summaries = soup.find_all(\"tr\", class_=\"athing\")\n",
    "summaries[0]"
   ]
  },
  {
   "cell_type": "code",
   "execution_count": 8,
   "metadata": {},
   "outputs": [
    {
     "data": {
      "text/plain": [
       "'WireGuard 1.0.0'"
      ]
     },
     "execution_count": 8,
     "metadata": {},
     "output_type": "execute_result"
    }
   ],
   "source": [
    "# Extract title\n",
    "summaries[0].find(\"a\", class_=\"storylink\").get_text().strip()"
   ]
  },
  {
   "cell_type": "code",
   "execution_count": 10,
   "metadata": {},
   "outputs": [
    {
     "name": "stdout",
     "output_type": "stream",
     "text": [
      "30 Article summaries found. Sample:\n",
      "WireGuard 1.0.0\n"
     ]
    }
   ],
   "source": [
    "# Find all articles, extract titles\n",
    "articles = []\n",
    "summaries = soup.find_all(\"tr\", class_=\"athing\")\n",
    "for summary in summaries:\n",
    "    title = summary.find(\"a\", class_=\"storylink\").get_text().strip()\n",
    "    articles.append((title))\n",
    "\n",
    "print(len(articles), \"Article summaries found. Sample:\")\n",
    "print(articles[0])"
   ]
  },
  {
   "cell_type": "markdown",
   "metadata": {
    "collapsed": true
   },
   "source": [
    "## Normalization"
   ]
  },
  {
   "cell_type": "markdown",
   "metadata": {},
   "source": [
    "### Case Normalization"
   ]
  },
  {
   "cell_type": "code",
   "execution_count": 11,
   "metadata": {},
   "outputs": [
    {
     "name": "stdout",
     "output_type": "stream",
     "text": [
      "The first time you see The Second Renaissance it may look boring. Look at it at least twice and definitely watch part 2. It will change your view of the matrix. Are the human people the ones who started the war ? Is AI a bad thing ?\n"
     ]
    }
   ],
   "source": [
    "# Sample text\n",
    "text = \"The first time you see The Second Renaissance it may look boring. Look at it at least twice and definitely watch part 2. It will change your view of the matrix. Are the human people the ones who started the war ? Is AI a bad thing ?\"\n",
    "print(text)"
   ]
  },
  {
   "cell_type": "code",
   "execution_count": 12,
   "metadata": {},
   "outputs": [
    {
     "name": "stdout",
     "output_type": "stream",
     "text": [
      "the first time you see the second renaissance it may look boring. look at it at least twice and definitely watch part 2. it will change your view of the matrix. are the human people the ones who started the war ? is ai a bad thing ?\n"
     ]
    }
   ],
   "source": [
    "# Convert to lowercase\n",
    "text = text.lower() \n",
    "print(text)"
   ]
  },
  {
   "cell_type": "markdown",
   "metadata": {},
   "source": [
    "### Punctuation Removal"
   ]
  },
  {
   "cell_type": "code",
   "execution_count": 13,
   "metadata": {},
   "outputs": [
    {
     "name": "stdout",
     "output_type": "stream",
     "text": [
      "the first time you see the second renaissance it may look boring  look at it at least twice and definitely watch part 2  it will change your view of the matrix  are the human people the ones who started the war   is ai a bad thing  \n"
     ]
    }
   ],
   "source": [
    "import re\n",
    "\n",
    "# Remove punctuation characters\n",
    "text = re.sub(r\"[^a-zA-Z0-9]\", \" \", text) \n",
    "print(text)"
   ]
  },
  {
   "cell_type": "markdown",
   "metadata": {},
   "source": [
    "## Tokenization"
   ]
  },
  {
   "cell_type": "code",
   "execution_count": 14,
   "metadata": {},
   "outputs": [
    {
     "name": "stdout",
     "output_type": "stream",
     "text": [
      "['the', 'first', 'time', 'you', 'see', 'the', 'second', 'renaissance', 'it', 'may', 'look', 'boring', 'look', 'at', 'it', 'at', 'least', 'twice', 'and', 'definitely', 'watch', 'part', '2', 'it', 'will', 'change', 'your', 'view', 'of', 'the', 'matrix', 'are', 'the', 'human', 'people', 'the', 'ones', 'who', 'started', 'the', 'war', 'is', 'ai', 'a', 'bad', 'thing']\n"
     ]
    }
   ],
   "source": [
    "# Split text into tokens (words)\n",
    "words = text.split()\n",
    "print(words)"
   ]
  },
  {
   "cell_type": "markdown",
   "metadata": {},
   "source": [
    "### NLTK: Natural Language ToolKit"
   ]
  },
  {
   "cell_type": "code",
   "execution_count": 15,
   "metadata": {},
   "outputs": [],
   "source": [
    "import os\n",
    "import nltk\n",
    "nltk.data.path.append(os.path.join(os.getcwd(), \"nltk_data\"))"
   ]
  },
  {
   "cell_type": "code",
   "execution_count": 16,
   "metadata": {},
   "outputs": [
    {
     "name": "stdout",
     "output_type": "stream",
     "text": [
      "Dr. Smith graduated from the University of Washington. He later started an analytics firm called Lux, which catered to enterprise customers.\n"
     ]
    }
   ],
   "source": [
    "# Another sample text\n",
    "text = \"Dr. Smith graduated from the University of Washington. He later started an analytics firm called Lux, which catered to enterprise customers.\"\n",
    "print(text)"
   ]
  },
  {
   "cell_type": "code",
   "execution_count": 17,
   "metadata": {},
   "outputs": [
    {
     "name": "stdout",
     "output_type": "stream",
     "text": [
      "['Dr.', 'Smith', 'graduated', 'from', 'the', 'University', 'of', 'Washington', '.', 'He', 'later', 'started', 'an', 'analytics', 'firm', 'called', 'Lux', ',', 'which', 'catered', 'to', 'enterprise', 'customers', '.']\n"
     ]
    }
   ],
   "source": [
    "from nltk.tokenize import word_tokenize\n",
    "\n",
    "# Split text into words using NLTK\n",
    "words = word_tokenize(text)\n",
    "print(words)"
   ]
  },
  {
   "cell_type": "code",
   "execution_count": 18,
   "metadata": {},
   "outputs": [
    {
     "name": "stdout",
     "output_type": "stream",
     "text": [
      "['Dr. Smith graduated from the University of Washington.', 'He later started an analytics firm called Lux, which catered to enterprise customers.']\n"
     ]
    }
   ],
   "source": [
    "from nltk.tokenize import sent_tokenize\n",
    "\n",
    "# Split text into sentences\n",
    "sentences = sent_tokenize(text)\n",
    "print(sentences)"
   ]
  },
  {
   "cell_type": "code",
   "execution_count": 19,
   "metadata": {},
   "outputs": [
    {
     "name": "stdout",
     "output_type": "stream",
     "text": [
      "['i', 'me', 'my', 'myself', 'we', 'our', 'ours', 'ourselves', 'you', \"you're\", \"you've\", \"you'll\", \"you'd\", 'your', 'yours', 'yourself', 'yourselves', 'he', 'him', 'his', 'himself', 'she', \"she's\", 'her', 'hers', 'herself', 'it', \"it's\", 'its', 'itself', 'they', 'them', 'their', 'theirs', 'themselves', 'what', 'which', 'who', 'whom', 'this', 'that', \"that'll\", 'these', 'those', 'am', 'is', 'are', 'was', 'were', 'be', 'been', 'being', 'have', 'has', 'had', 'having', 'do', 'does', 'did', 'doing', 'a', 'an', 'the', 'and', 'but', 'if', 'or', 'because', 'as', 'until', 'while', 'of', 'at', 'by', 'for', 'with', 'about', 'against', 'between', 'into', 'through', 'during', 'before', 'after', 'above', 'below', 'to', 'from', 'up', 'down', 'in', 'out', 'on', 'off', 'over', 'under', 'again', 'further', 'then', 'once', 'here', 'there', 'when', 'where', 'why', 'how', 'all', 'any', 'both', 'each', 'few', 'more', 'most', 'other', 'some', 'such', 'no', 'nor', 'not', 'only', 'own', 'same', 'so', 'than', 'too', 'very', 's', 't', 'can', 'will', 'just', 'don', \"don't\", 'should', \"should've\", 'now', 'd', 'll', 'm', 'o', 're', 've', 'y', 'ain', 'aren', \"aren't\", 'couldn', \"couldn't\", 'didn', \"didn't\", 'doesn', \"doesn't\", 'hadn', \"hadn't\", 'hasn', \"hasn't\", 'haven', \"haven't\", 'isn', \"isn't\", 'ma', 'mightn', \"mightn't\", 'mustn', \"mustn't\", 'needn', \"needn't\", 'shan', \"shan't\", 'shouldn', \"shouldn't\", 'wasn', \"wasn't\", 'weren', \"weren't\", 'won', \"won't\", 'wouldn', \"wouldn't\"]\n"
     ]
    }
   ],
   "source": [
    "# List stop words\n",
    "from nltk.corpus import stopwords\n",
    "print(stopwords.words(\"english\"))"
   ]
  },
  {
   "cell_type": "code",
   "execution_count": 20,
   "metadata": {},
   "outputs": [
    {
     "name": "stdout",
     "output_type": "stream",
     "text": [
      "['the', 'first', 'time', 'you', 'see', 'the', 'second', 'renaissance', 'it', 'may', 'look', 'boring', 'look', 'at', 'it', 'at', 'least', 'twice', 'and', 'definitely', 'watch', 'part', '2', 'it', 'will', 'change', 'your', 'view', 'of', 'the', 'matrix', 'are', 'the', 'human', 'people', 'the', 'ones', 'who', 'started', 'the', 'war', 'is', 'ai', 'a', 'bad', 'thing']\n"
     ]
    }
   ],
   "source": [
    "# Reset text\n",
    "text = \"The first time you see The Second Renaissance it may look boring. Look at it at least twice and definitely watch part 2. It will change your view of the matrix. Are the human people the ones who started the war ? Is AI a bad thing ?\"\n",
    "\n",
    "# Normalize it\n",
    "text = re.sub(r\"[^a-zA-Z0-9]\", \" \", text.lower())\n",
    "\n",
    "# Tokenize it\n",
    "words = text.split()\n",
    "print(words)"
   ]
  },
  {
   "cell_type": "code",
   "execution_count": 21,
   "metadata": {},
   "outputs": [
    {
     "name": "stdout",
     "output_type": "stream",
     "text": [
      "['first', 'time', 'see', 'second', 'renaissance', 'may', 'look', 'boring', 'look', 'least', 'twice', 'definitely', 'watch', 'part', '2', 'change', 'view', 'matrix', 'human', 'people', 'ones', 'started', 'war', 'ai', 'bad', 'thing']\n"
     ]
    }
   ],
   "source": [
    "# Remove stop words\n",
    "words = [w for w in words if w not in stopwords.words(\"english\")]\n",
    "print(words)"
   ]
  },
  {
   "cell_type": "markdown",
   "metadata": {},
   "source": [
    "### Sentence Parsing"
   ]
  },
  {
   "cell_type": "code",
   "execution_count": 23,
   "metadata": {},
   "outputs": [
    {
     "name": "stdout",
     "output_type": "stream",
     "text": [
      "(S\n",
      "  (NP I)\n",
      "  (VP\n",
      "    (VP (V shot) (NP (Det an) (N elephant)))\n",
      "    (PP (P in) (NP (Det my) (N pajamas)))))\n",
      "(S\n",
      "  (NP I)\n",
      "  (VP\n",
      "    (V shot)\n",
      "    (NP (Det an) (N elephant) (PP (P in) (NP (Det my) (N pajamas))))))\n"
     ]
    }
   ],
   "source": [
    "import nltk\n",
    "\n",
    "# Define a custom grammar\n",
    "my_grammar = nltk.CFG.fromstring(\"\"\"\n",
    "S -> NP VP\n",
    "PP -> P NP\n",
    "NP -> Det N | Det N PP | 'I'\n",
    "VP -> V NP | VP PP\n",
    "Det -> 'an' | 'my'\n",
    "N -> 'elephant' | 'pajamas'\n",
    "V -> 'shot'\n",
    "P -> 'in'\n",
    "\"\"\")\n",
    "parser = nltk.ChartParser(my_grammar)\n",
    "\n",
    "# Parse a sentence\n",
    "sentence = word_tokenize(\"I shot an elephant in my pajamas\")\n",
    "for tree in parser.parse(sentence):\n",
    "    print(tree)"
   ]
  },
  {
   "cell_type": "markdown",
   "metadata": {},
   "source": [
    "## Stemming & Lemmatization\n",
    "\n",
    "### Stemming"
   ]
  },
  {
   "cell_type": "code",
   "execution_count": 24,
   "metadata": {},
   "outputs": [
    {
     "name": "stdout",
     "output_type": "stream",
     "text": [
      "['first', 'time', 'see', 'second', 'renaiss', 'may', 'look', 'bore', 'look', 'least', 'twice', 'definit', 'watch', 'part', '2', 'chang', 'view', 'matrix', 'human', 'peopl', 'one', 'start', 'war', 'ai', 'bad', 'thing']\n"
     ]
    }
   ],
   "source": [
    "from nltk.stem.porter import PorterStemmer\n",
    "\n",
    "# Reduce words to their stems\n",
    "stemmed = [PorterStemmer().stem(w) for w in words]\n",
    "print(stemmed)"
   ]
  },
  {
   "cell_type": "markdown",
   "metadata": {},
   "source": [
    "### Lemmatization"
   ]
  },
  {
   "cell_type": "code",
   "execution_count": 25,
   "metadata": {},
   "outputs": [
    {
     "name": "stdout",
     "output_type": "stream",
     "text": [
      "['first', 'time', 'see', 'second', 'renaissance', 'may', 'look', 'boring', 'look', 'least', 'twice', 'definitely', 'watch', 'part', '2', 'change', 'view', 'matrix', 'human', 'people', 'one', 'started', 'war', 'ai', 'bad', 'thing']\n"
     ]
    }
   ],
   "source": [
    "from nltk.stem.wordnet import WordNetLemmatizer\n",
    "\n",
    "# Reduce words to their root form\n",
    "lemmed = [WordNetLemmatizer().lemmatize(w) for w in words]\n",
    "print(lemmed)"
   ]
  },
  {
   "cell_type": "code",
   "execution_count": 26,
   "metadata": {},
   "outputs": [
    {
     "name": "stdout",
     "output_type": "stream",
     "text": [
      "['first', 'time', 'see', 'second', 'renaissance', 'may', 'look', 'bore', 'look', 'least', 'twice', 'definitely', 'watch', 'part', '2', 'change', 'view', 'matrix', 'human', 'people', 'one', 'start', 'war', 'ai', 'bad', 'thing']\n"
     ]
    }
   ],
   "source": [
    "# Lemmatize verbs by specifying pos\n",
    "lemmed = [WordNetLemmatizer().lemmatize(w, pos='v') for w in lemmed]\n",
    "print(lemmed)"
   ]
  },
  {
   "cell_type": "code",
   "execution_count": null,
   "metadata": {},
   "outputs": [],
   "source": []
  }
 ],
 "metadata": {
  "kernelspec": {
   "display_name": "Python 3",
   "language": "python",
   "name": "python3"
  },
  "language_info": {
   "codemirror_mode": {
    "name": "ipython",
    "version": 3
   },
   "file_extension": ".py",
   "mimetype": "text/x-python",
   "name": "python",
   "nbconvert_exporter": "python",
   "pygments_lexer": "ipython3",
   "version": "3.6.3"
  }
 },
 "nbformat": 4,
 "nbformat_minor": 2
}
